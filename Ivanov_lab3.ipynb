{
 "cells": [
  {
   "cell_type": "code",
   "execution_count": 2,
   "metadata": {},
   "outputs": [],
   "source": [
    "import matplotlib.pyplot as plt\n",
    "import numpy as np"
   ]
  },
  {
   "cell_type": "markdown",
   "metadata": {},
   "source": [
    "**Вариант №9**"
   ]
  },
  {
   "cell_type": "markdown",
   "metadata": {},
   "source": [
    "**Задание 3.1.9**"
   ]
  },
  {
   "cell_type": "markdown",
   "metadata": {},
   "source": [
    "**Дана система уравнений Ax=b порядка n. Исследовать зависимость погрешности решения x от\n",
    "погрешностей правой части системы b.**"
   ]
  },
  {
   "cell_type": "code",
   "execution_count": 175,
   "metadata": {},
   "outputs": [
    {
     "name": "stdout",
     "output_type": "stream",
     "text": [
      "[2.1864997421947342e-13, 1.0923113885272985e-11, 7.7468607883923e-11, 1.269133029952753e-10, 1.1111798275676236e-11]\n"
     ]
    }
   ],
   "source": [
    "A = np.ones([5,5])\n",
    "for i in range(0,5):\n",
    "    for k in range(0,5):\n",
    "        A[i,k] = 3/(1 + 0.1*9*(i+1)*(k+1))**2\n",
    "b = [9,9,9,9,9]\n",
    "##решаем систему\n",
    "x = np.linalg.solve(A, b)\n",
    "##число обусловленности\n",
    "c = np.linalg.cond(A)\n",
    "\n",
    "delta = 10**(-10)\n",
    "\n",
    "d = []\n",
    "##Пошевелим свободные члены\n",
    "for i in range(0,5):\n",
    "    b_1 = b\n",
    "    b_1[i] += delta\n",
    "    x_1 = np.linalg.solve(A, b_1)\n",
    "    d.append(np.linalg.norm(x - x_1, np.inf) / np.linalg.norm(x, np.inf))\n",
    "    b_1 = b\n",
    "print (d)"
   ]
  },
  {
   "cell_type": "markdown",
   "metadata": {},
   "source": [
    "**Посчитаем погрешности и сравним их:**"
   ]
  },
  {
   "cell_type": "code",
   "execution_count": 173,
   "metadata": {},
   "outputs": [
    {
     "name": "stdout",
     "output_type": "stream",
     "text": [
      "Практическая погрешность: 1.269133029952753e-10\n"
     ]
    }
   ],
   "source": [
    "print('Практическая погрешность:', d[np.argmax(d)])"
   ]
  },
  {
   "cell_type": "code",
   "execution_count": 174,
   "metadata": {},
   "outputs": [
    {
     "name": "stdout",
     "output_type": "stream",
     "text": [
      "Теоретическая погрешность: 0.0083\n"
     ]
    }
   ],
   "source": [
    "print('Теоретическая погрешность:',round(c * delta,4))"
   ]
  },
  {
   "cell_type": "markdown",
   "metadata": {},
   "source": [
    "**Теоретическая погрешность больше практической, т.к. является лишь оценкой.**"
   ]
  },
  {
   "cell_type": "markdown",
   "metadata": {},
   "source": [
    "**Задание 3.5.3**"
   ]
  },
  {
   "cell_type": "code",
   "execution_count": 176,
   "metadata": {},
   "outputs": [],
   "source": [
    "A = np.ones([30,30])\n",
    "for i in range(0,30):\n",
    "    for k in range(0,30):\n",
    "        if i == k:\n",
    "             A[i,k] = 30 + 81 + ((k+1)/9) + ((i+1)/30)\n",
    "        else:\n",
    "            A[i,k] = (i+k+2)/39\n",
    "b = []\n",
    "for i in range(0,30):\n",
    "    b.append((i+1)**2 - 100)\n",
    "b = np.array(b)   \n",
    "##Найдем разложение Холецкого матрицы А    \n",
    "L = np.linalg.cholesky(A) "
   ]
  },
  {
   "cell_type": "markdown",
   "metadata": {},
   "source": [
    "**Функции, реализующие обратный ход.**"
   ]
  },
  {
   "cell_type": "code",
   "execution_count": 149,
   "metadata": {},
   "outputs": [],
   "source": [
    "def sum1(A, i, y):\n",
    "    p = 0\n",
    "    for k in range(0, i):\n",
    "        p += A[i,k] * y[k]\n",
    "    return p\n",
    "\n",
    "def sum2(A, i, y):\n",
    "    p = 0\n",
    "    for k in range(i + 1, 30):\n",
    "        p += A[i,k] * y[29-k]\n",
    "    return p\n",
    "    \n",
    "    \n",
    "def obr_hod1(A, b):\n",
    "    y = []\n",
    "    y.append(b[0] / A[0,0])\n",
    "    for i in range(1,30):\n",
    "        y.append(1/A[i,i] * (b[i] - sum1(A, i, y)))\n",
    "    y = np.array(y)\n",
    "    return(y)\n",
    "\n",
    "def obr_hod2(A, b):\n",
    "    y = []\n",
    "    y.append(b[29] / A[29,29])\n",
    "    for i in range(1,30):\n",
    "        y.append(1/A[29 - i,29 - i] * (b[29 - i] - sum2(A, 29 - i, y)))\n",
    "    y = np.array(y)\n",
    "    return(y)\n",
    "    \n",
    "        \n",
    "        \n",
    "    "
   ]
  },
  {
   "cell_type": "markdown",
   "metadata": {},
   "source": [
    "**Найдем решение $Ly = b.$**"
   ]
  },
  {
   "cell_type": "code",
   "execution_count": 150,
   "metadata": {},
   "outputs": [
    {
     "data": {
      "text/plain": [
       "array([-9.39055617, -9.09358969, -8.60141902, -7.91509934, -7.03599474,\n",
       "       -5.9657682 , -4.70636938, -3.26002049, -1.62920036,  0.1833731 ,\n",
       "        2.17476172,  4.34182706,  6.68125131,  9.18955876, 11.86313777,\n",
       "       14.69826282, 17.69111659, 20.83781175, 24.13441235, 27.57695449,\n",
       "       31.16146633, 34.88398711, 38.74058516, 42.72737481, 46.84053203,\n",
       "       51.07630893, 55.43104685, 59.90118823, 64.48328714, 69.17401852])"
      ]
     },
     "execution_count": 150,
     "metadata": {},
     "output_type": "execute_result"
    }
   ],
   "source": [
    "y = obr_hod1(L, b)\n",
    "y"
   ]
  },
  {
   "cell_type": "code",
   "execution_count": 151,
   "metadata": {},
   "outputs": [
    {
     "data": {
      "text/plain": [
       "array([-9.39055617, -9.09358969, -8.60141902, -7.91509934, -7.03599474,\n",
       "       -5.9657682 , -4.70636938, -3.26002049, -1.62920036,  0.1833731 ,\n",
       "        2.17476172,  4.34182706,  6.68125131,  9.18955876, 11.86313777,\n",
       "       14.69826282, 17.69111659, 20.83781175, 24.13441235, 27.57695449,\n",
       "       31.16146633, 34.88398711, 38.74058516, 42.72737481, 46.84053203,\n",
       "       51.07630893, 55.43104685, 59.90118823, 64.48328714, 69.17401852])"
      ]
     },
     "execution_count": 151,
     "metadata": {},
     "output_type": "execute_result"
    }
   ],
   "source": [
    "##проверка\n",
    "np.linalg.solve(L, b)"
   ]
  },
  {
   "cell_type": "markdown",
   "metadata": {},
   "source": [
    "**Найдем решение $L^{T}x = y.$**"
   ]
  },
  {
   "cell_type": "code",
   "execution_count": 157,
   "metadata": {},
   "outputs": [
    {
     "data": {
      "text/plain": [
       "array([-1.19421606, -1.17628984, -1.14042087, -1.08665417, -1.01503464,\n",
       "       -0.92560698, -0.81841578, -0.69350547, -0.55092032, -0.39070448,\n",
       "       -0.21290192, -0.01755648,  0.19528813,  0.42558837,  0.67330083,\n",
       "        0.93838226,  1.22078953,  1.52047967,  1.83740985,  2.17153737,\n",
       "        2.52281968,  2.89121438,  3.27667918,  3.67917196,  4.09865073,\n",
       "        4.53507363,  4.98839893,  5.45858506,  5.94559058,  6.44937417])"
      ]
     },
     "execution_count": 157,
     "metadata": {},
     "output_type": "execute_result"
    }
   ],
   "source": [
    "x = obr_hod2(L.T, y)\n",
    "x = x[::-1]\n",
    "x"
   ]
  },
  {
   "cell_type": "code",
   "execution_count": 155,
   "metadata": {},
   "outputs": [
    {
     "data": {
      "text/plain": [
       "array([-1.19421606, -1.17628984, -1.14042087, -1.08665417, -1.01503464,\n",
       "       -0.92560698, -0.81841578, -0.69350547, -0.55092032, -0.39070448,\n",
       "       -0.21290192, -0.01755648,  0.19528813,  0.42558837,  0.67330083,\n",
       "        0.93838226,  1.22078953,  1.52047967,  1.83740985,  2.17153737,\n",
       "        2.52281968,  2.89121438,  3.27667918,  3.67917196,  4.09865073,\n",
       "        4.53507363,  4.98839893,  5.45858506,  5.94559058,  6.44937417])"
      ]
     },
     "execution_count": 155,
     "metadata": {},
     "output_type": "execute_result"
    }
   ],
   "source": [
    "##проверка\n",
    "np.linalg.solve(L.T, y)"
   ]
  },
  {
   "cell_type": "markdown",
   "metadata": {},
   "source": [
    "**Задание 3.7**"
   ]
  },
  {
   "cell_type": "code",
   "execution_count": 178,
   "metadata": {},
   "outputs": [
    {
     "data": {
      "text/plain": [
       "array([[0., 0., 0.],\n",
       "       [0., 0., 0.],\n",
       "       [0., 0., 0.]])"
      ]
     },
     "execution_count": 178,
     "metadata": {},
     "output_type": "execute_result"
    }
   ],
   "source": [
    "np.zeros([3,3])"
   ]
  },
  {
   "cell_type": "code",
   "execution_count": null,
   "metadata": {},
   "outputs": [],
   "source": []
  }
 ],
 "metadata": {
  "kernelspec": {
   "display_name": "Python 3",
   "language": "python",
   "name": "python3"
  },
  "language_info": {
   "codemirror_mode": {
    "name": "ipython",
    "version": 3
   },
   "file_extension": ".py",
   "mimetype": "text/x-python",
   "name": "python",
   "nbconvert_exporter": "python",
   "pygments_lexer": "ipython3",
   "version": "3.6.5"
  }
 },
 "nbformat": 4,
 "nbformat_minor": 2
}
